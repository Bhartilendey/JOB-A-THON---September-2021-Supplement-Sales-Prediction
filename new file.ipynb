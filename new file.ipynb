{
 "cells": [
  {
   "cell_type": "markdown",
   "id": "37be4790",
   "metadata": {},
   "source": [
    "# JOB-A-THON - September 2021\n",
    "\n",
    "## Supplement-Sales-Prediction"
   ]
  },
  {
   "cell_type": "markdown",
   "id": "832790b8",
   "metadata": {},
   "source": [
    "### Import Required Libraries"
   ]
  },
  {
   "cell_type": "code",
   "execution_count": 1,
   "id": "ca55f4d1",
   "metadata": {},
   "outputs": [],
   "source": [
    "import pandas as pd\n",
    "import numpy as np\n",
    "import matplotlib.pyplot as plt\n",
    "%matplotlib inline\n",
    "import seaborn as sns\n",
    "import warnings\n",
    "warnings.filterwarnings(\"ignore\")"
   ]
  },
  {
   "cell_type": "markdown",
   "id": "a94fee9f",
   "metadata": {},
   "source": [
    "### Setting Working Directory"
   ]
  },
  {
   "cell_type": "code",
   "execution_count": 2,
   "id": "32004d01",
   "metadata": {},
   "outputs": [],
   "source": [
    "Location = r'C:\\Users\\Bharti Lenday\\Downloads'"
   ]
  },
  {
   "cell_type": "markdown",
   "id": "975b4726",
   "metadata": {},
   "source": [
    "### Loading the Train Data and Test Data"
   ]
  },
  {
   "cell_type": "code",
   "execution_count": 3,
   "id": "35fb3d7b",
   "metadata": {},
   "outputs": [],
   "source": [
    "Train = pd.read_csv(Location + '/' + 'TRAIN.csv')\n",
    "Test = pd.read_csv( Location + '/' + 'TEST_FINAL.csv')"
   ]
  },
  {
   "cell_type": "markdown",
   "id": "97de3f0b",
   "metadata": {},
   "source": [
    "### Data Inspection"
   ]
  },
  {
   "cell_type": "code",
   "execution_count": 4,
   "id": "0fe35dcf",
   "metadata": {},
   "outputs": [
    {
     "data": {
      "text/html": [
       "<div>\n",
       "<style scoped>\n",
       "    .dataframe tbody tr th:only-of-type {\n",
       "        vertical-align: middle;\n",
       "    }\n",
       "\n",
       "    .dataframe tbody tr th {\n",
       "        vertical-align: top;\n",
       "    }\n",
       "\n",
       "    .dataframe thead th {\n",
       "        text-align: right;\n",
       "    }\n",
       "</style>\n",
       "<table border=\"1\" class=\"dataframe\">\n",
       "  <thead>\n",
       "    <tr style=\"text-align: right;\">\n",
       "      <th></th>\n",
       "      <th>ID</th>\n",
       "      <th>Store_id</th>\n",
       "      <th>Store_Type</th>\n",
       "      <th>Location_Type</th>\n",
       "      <th>Region_Code</th>\n",
       "      <th>Date</th>\n",
       "      <th>Holiday</th>\n",
       "      <th>Discount</th>\n",
       "      <th>#Order</th>\n",
       "      <th>Sales</th>\n",
       "    </tr>\n",
       "  </thead>\n",
       "  <tbody>\n",
       "    <tr>\n",
       "      <th>0</th>\n",
       "      <td>T1000001</td>\n",
       "      <td>1</td>\n",
       "      <td>S1</td>\n",
       "      <td>L3</td>\n",
       "      <td>R1</td>\n",
       "      <td>2018-01-01</td>\n",
       "      <td>1</td>\n",
       "      <td>Yes</td>\n",
       "      <td>9</td>\n",
       "      <td>7011.84</td>\n",
       "    </tr>\n",
       "    <tr>\n",
       "      <th>1</th>\n",
       "      <td>T1000002</td>\n",
       "      <td>253</td>\n",
       "      <td>S4</td>\n",
       "      <td>L2</td>\n",
       "      <td>R1</td>\n",
       "      <td>2018-01-01</td>\n",
       "      <td>1</td>\n",
       "      <td>Yes</td>\n",
       "      <td>60</td>\n",
       "      <td>51789.12</td>\n",
       "    </tr>\n",
       "    <tr>\n",
       "      <th>2</th>\n",
       "      <td>T1000003</td>\n",
       "      <td>252</td>\n",
       "      <td>S3</td>\n",
       "      <td>L2</td>\n",
       "      <td>R1</td>\n",
       "      <td>2018-01-01</td>\n",
       "      <td>1</td>\n",
       "      <td>Yes</td>\n",
       "      <td>42</td>\n",
       "      <td>36868.20</td>\n",
       "    </tr>\n",
       "  </tbody>\n",
       "</table>\n",
       "</div>"
      ],
      "text/plain": [
       "         ID  Store_id Store_Type Location_Type Region_Code        Date  \\\n",
       "0  T1000001         1         S1            L3          R1  2018-01-01   \n",
       "1  T1000002       253         S4            L2          R1  2018-01-01   \n",
       "2  T1000003       252         S3            L2          R1  2018-01-01   \n",
       "\n",
       "   Holiday Discount  #Order     Sales  \n",
       "0        1      Yes       9   7011.84  \n",
       "1        1      Yes      60  51789.12  \n",
       "2        1      Yes      42  36868.20  "
      ]
     },
     "execution_count": 4,
     "metadata": {},
     "output_type": "execute_result"
    }
   ],
   "source": [
    "Train.head(3)"
   ]
  },
  {
   "cell_type": "code",
   "execution_count": 5,
   "id": "7cdc8c34",
   "metadata": {},
   "outputs": [
    {
     "data": {
      "text/html": [
       "<div>\n",
       "<style scoped>\n",
       "    .dataframe tbody tr th:only-of-type {\n",
       "        vertical-align: middle;\n",
       "    }\n",
       "\n",
       "    .dataframe tbody tr th {\n",
       "        vertical-align: top;\n",
       "    }\n",
       "\n",
       "    .dataframe thead th {\n",
       "        text-align: right;\n",
       "    }\n",
       "</style>\n",
       "<table border=\"1\" class=\"dataframe\">\n",
       "  <thead>\n",
       "    <tr style=\"text-align: right;\">\n",
       "      <th></th>\n",
       "      <th>ID</th>\n",
       "      <th>Store_id</th>\n",
       "      <th>Store_Type</th>\n",
       "      <th>Location_Type</th>\n",
       "      <th>Region_Code</th>\n",
       "      <th>Date</th>\n",
       "      <th>Holiday</th>\n",
       "      <th>Discount</th>\n",
       "    </tr>\n",
       "  </thead>\n",
       "  <tbody>\n",
       "    <tr>\n",
       "      <th>0</th>\n",
       "      <td>T1188341</td>\n",
       "      <td>171</td>\n",
       "      <td>S4</td>\n",
       "      <td>L2</td>\n",
       "      <td>R3</td>\n",
       "      <td>2019-06-01</td>\n",
       "      <td>0</td>\n",
       "      <td>No</td>\n",
       "    </tr>\n",
       "    <tr>\n",
       "      <th>1</th>\n",
       "      <td>T1188342</td>\n",
       "      <td>172</td>\n",
       "      <td>S1</td>\n",
       "      <td>L1</td>\n",
       "      <td>R1</td>\n",
       "      <td>2019-06-01</td>\n",
       "      <td>0</td>\n",
       "      <td>No</td>\n",
       "    </tr>\n",
       "    <tr>\n",
       "      <th>2</th>\n",
       "      <td>T1188343</td>\n",
       "      <td>173</td>\n",
       "      <td>S4</td>\n",
       "      <td>L2</td>\n",
       "      <td>R1</td>\n",
       "      <td>2019-06-01</td>\n",
       "      <td>0</td>\n",
       "      <td>No</td>\n",
       "    </tr>\n",
       "  </tbody>\n",
       "</table>\n",
       "</div>"
      ],
      "text/plain": [
       "         ID  Store_id Store_Type Location_Type Region_Code        Date  \\\n",
       "0  T1188341       171         S4            L2          R3  2019-06-01   \n",
       "1  T1188342       172         S1            L1          R1  2019-06-01   \n",
       "2  T1188343       173         S4            L2          R1  2019-06-01   \n",
       "\n",
       "   Holiday Discount  \n",
       "0        0       No  \n",
       "1        0       No  \n",
       "2        0       No  "
      ]
     },
     "execution_count": 5,
     "metadata": {},
     "output_type": "execute_result"
    }
   ],
   "source": [
    "Test.head(3)"
   ]
  },
  {
   "cell_type": "code",
   "execution_count": 6,
   "id": "c6b1ecdc",
   "metadata": {},
   "outputs": [
    {
     "name": "stdout",
     "output_type": "stream",
     "text": [
      "Shape of the Train data: (188340, 10)\n",
      "Shape of the Test data: (22265, 8)\n"
     ]
    }
   ],
   "source": [
    "# Shape of the dataset\n",
    "print('Shape of the Train data:',Train.shape)\n",
    "print('Shape of the Test data:',Test.shape)"
   ]
  },
  {
   "cell_type": "markdown",
   "id": "9e3480f1",
   "metadata": {},
   "source": [
    "\n",
    "* **The Train data contains 188340 rows and 10 columns including the target column.**\n",
    "* **The Test data contains 22265 rows and 8 columns.**"
   ]
  },
  {
   "cell_type": "code",
   "execution_count": 7,
   "id": "db198fbc",
   "metadata": {},
   "outputs": [
    {
     "name": "stdout",
     "output_type": "stream",
     "text": [
      "Data type of Train data :\n",
      " ID                object\n",
      "Store_id           int64\n",
      "Store_Type        object\n",
      "Location_Type     object\n",
      "Region_Code       object\n",
      "Date              object\n",
      "Holiday            int64\n",
      "Discount          object\n",
      "#Order             int64\n",
      "Sales            float64\n",
      "dtype: object \n",
      "\n",
      "\n",
      "Data type of Test data :\n",
      " ID               object\n",
      "Store_id          int64\n",
      "Store_Type       object\n",
      "Location_Type    object\n",
      "Region_Code      object\n",
      "Date             object\n",
      "Holiday           int64\n",
      "Discount         object\n",
      "dtype: object\n"
     ]
    }
   ],
   "source": [
    "# Checking the data types of each column of this dataset.\n",
    "print('Data type of Train data :\\n' , Train.dtypes,'\\n\\n')\n",
    "print('Data type of Test data :\\n', Test.dtypes)"
   ]
  },
  {
   "cell_type": "code",
   "execution_count": 8,
   "id": "f6bd0ff0",
   "metadata": {},
   "outputs": [
    {
     "name": "stdout",
     "output_type": "stream",
     "text": [
      "Columns of Train data :\n",
      " Index(['ID', 'Store_id', 'Store_Type', 'Location_Type', 'Region_Code', 'Date',\n",
      "       'Holiday', 'Discount', '#Order', 'Sales'],\n",
      "      dtype='object') \n",
      "\n",
      "\n",
      "\n",
      "Columns of Test data :\n",
      " Index(['ID', 'Store_id', 'Store_Type', 'Location_Type', 'Region_Code', 'Date',\n",
      "       'Holiday', 'Discount'],\n",
      "      dtype='object')\n"
     ]
    }
   ],
   "source": [
    "# Checking the columns of both the data.\n",
    "print('Columns of Train data :\\n' , Train.columns,'\\n\\n\\n')\n",
    "print('Columns of Test data :\\n', Test.columns)"
   ]
  },
  {
   "cell_type": "markdown",
   "id": "62ca3355",
   "metadata": {},
   "source": [
    "**Test data does not include the target variable i.e. 'Sales' and the '#Order' Column.**"
   ]
  },
  {
   "cell_type": "code",
   "execution_count": 9,
   "id": "7498df97",
   "metadata": {},
   "outputs": [
    {
     "name": "stdout",
     "output_type": "stream",
     "text": [
      "<class 'pandas.core.frame.DataFrame'>\n",
      "RangeIndex: 188340 entries, 0 to 188339\n",
      "Data columns (total 10 columns):\n",
      " #   Column         Non-Null Count   Dtype  \n",
      "---  ------         --------------   -----  \n",
      " 0   ID             188340 non-null  object \n",
      " 1   Store_id       188340 non-null  int64  \n",
      " 2   Store_Type     188340 non-null  object \n",
      " 3   Location_Type  188340 non-null  object \n",
      " 4   Region_Code    188340 non-null  object \n",
      " 5   Date           188340 non-null  object \n",
      " 6   Holiday        188340 non-null  int64  \n",
      " 7   Discount       188340 non-null  object \n",
      " 8   #Order         188340 non-null  int64  \n",
      " 9   Sales          188340 non-null  float64\n",
      "dtypes: float64(1), int64(3), object(6)\n",
      "memory usage: 14.4+ MB\n",
      "None \n",
      "\n",
      "\n",
      "<class 'pandas.core.frame.DataFrame'>\n",
      "RangeIndex: 22265 entries, 0 to 22264\n",
      "Data columns (total 8 columns):\n",
      " #   Column         Non-Null Count  Dtype \n",
      "---  ------         --------------  ----- \n",
      " 0   ID             22265 non-null  object\n",
      " 1   Store_id       22265 non-null  int64 \n",
      " 2   Store_Type     22265 non-null  object\n",
      " 3   Location_Type  22265 non-null  object\n",
      " 4   Region_Code    22265 non-null  object\n",
      " 5   Date           22265 non-null  object\n",
      " 6   Holiday        22265 non-null  int64 \n",
      " 7   Discount       22265 non-null  object\n",
      "dtypes: int64(2), object(6)\n",
      "memory usage: 1.4+ MB\n",
      "None\n"
     ]
    }
   ],
   "source": [
    "# Information of both the data\n",
    "print( Train.info(),'\\n\\n')\n",
    "print( Test.info())"
   ]
  },
  {
   "cell_type": "code",
   "execution_count": 10,
   "id": "6936df1b",
   "metadata": {},
   "outputs": [
    {
     "data": {
      "text/html": [
       "<div>\n",
       "<style scoped>\n",
       "    .dataframe tbody tr th:only-of-type {\n",
       "        vertical-align: middle;\n",
       "    }\n",
       "\n",
       "    .dataframe tbody tr th {\n",
       "        vertical-align: top;\n",
       "    }\n",
       "\n",
       "    .dataframe thead th {\n",
       "        text-align: right;\n",
       "    }\n",
       "</style>\n",
       "<table border=\"1\" class=\"dataframe\">\n",
       "  <thead>\n",
       "    <tr style=\"text-align: right;\">\n",
       "      <th></th>\n",
       "      <th>Store_id</th>\n",
       "      <th>Holiday</th>\n",
       "      <th>#Order</th>\n",
       "      <th>Sales</th>\n",
       "    </tr>\n",
       "  </thead>\n",
       "  <tbody>\n",
       "    <tr>\n",
       "      <th>count</th>\n",
       "      <td>188340.000000</td>\n",
       "      <td>188340.000000</td>\n",
       "      <td>188340.000000</td>\n",
       "      <td>188340.000000</td>\n",
       "    </tr>\n",
       "    <tr>\n",
       "      <th>mean</th>\n",
       "      <td>183.000000</td>\n",
       "      <td>0.131783</td>\n",
       "      <td>68.205692</td>\n",
       "      <td>42784.327982</td>\n",
       "    </tr>\n",
       "    <tr>\n",
       "      <th>std</th>\n",
       "      <td>105.366308</td>\n",
       "      <td>0.338256</td>\n",
       "      <td>30.467415</td>\n",
       "      <td>18456.708302</td>\n",
       "    </tr>\n",
       "    <tr>\n",
       "      <th>min</th>\n",
       "      <td>1.000000</td>\n",
       "      <td>0.000000</td>\n",
       "      <td>0.000000</td>\n",
       "      <td>0.000000</td>\n",
       "    </tr>\n",
       "    <tr>\n",
       "      <th>25%</th>\n",
       "      <td>92.000000</td>\n",
       "      <td>0.000000</td>\n",
       "      <td>48.000000</td>\n",
       "      <td>30426.000000</td>\n",
       "    </tr>\n",
       "    <tr>\n",
       "      <th>50%</th>\n",
       "      <td>183.000000</td>\n",
       "      <td>0.000000</td>\n",
       "      <td>63.000000</td>\n",
       "      <td>39678.000000</td>\n",
       "    </tr>\n",
       "    <tr>\n",
       "      <th>75%</th>\n",
       "      <td>274.000000</td>\n",
       "      <td>0.000000</td>\n",
       "      <td>82.000000</td>\n",
       "      <td>51909.000000</td>\n",
       "    </tr>\n",
       "    <tr>\n",
       "      <th>max</th>\n",
       "      <td>365.000000</td>\n",
       "      <td>1.000000</td>\n",
       "      <td>371.000000</td>\n",
       "      <td>247215.000000</td>\n",
       "    </tr>\n",
       "  </tbody>\n",
       "</table>\n",
       "</div>"
      ],
      "text/plain": [
       "            Store_id        Holiday         #Order          Sales\n",
       "count  188340.000000  188340.000000  188340.000000  188340.000000\n",
       "mean      183.000000       0.131783      68.205692   42784.327982\n",
       "std       105.366308       0.338256      30.467415   18456.708302\n",
       "min         1.000000       0.000000       0.000000       0.000000\n",
       "25%        92.000000       0.000000      48.000000   30426.000000\n",
       "50%       183.000000       0.000000      63.000000   39678.000000\n",
       "75%       274.000000       0.000000      82.000000   51909.000000\n",
       "max       365.000000       1.000000     371.000000  247215.000000"
      ]
     },
     "execution_count": 10,
     "metadata": {},
     "output_type": "execute_result"
    }
   ],
   "source": [
    "# Describe both data\n",
    "Train.describe()"
   ]
  },
  {
   "cell_type": "code",
   "execution_count": 11,
   "id": "cb955d2e",
   "metadata": {},
   "outputs": [
    {
     "data": {
      "text/html": [
       "<div>\n",
       "<style scoped>\n",
       "    .dataframe tbody tr th:only-of-type {\n",
       "        vertical-align: middle;\n",
       "    }\n",
       "\n",
       "    .dataframe tbody tr th {\n",
       "        vertical-align: top;\n",
       "    }\n",
       "\n",
       "    .dataframe thead th {\n",
       "        text-align: right;\n",
       "    }\n",
       "</style>\n",
       "<table border=\"1\" class=\"dataframe\">\n",
       "  <thead>\n",
       "    <tr style=\"text-align: right;\">\n",
       "      <th></th>\n",
       "      <th>Store_id</th>\n",
       "      <th>Holiday</th>\n",
       "    </tr>\n",
       "  </thead>\n",
       "  <tbody>\n",
       "    <tr>\n",
       "      <th>count</th>\n",
       "      <td>22265.000000</td>\n",
       "      <td>22265.000000</td>\n",
       "    </tr>\n",
       "    <tr>\n",
       "      <th>mean</th>\n",
       "      <td>183.000000</td>\n",
       "      <td>0.032787</td>\n",
       "    </tr>\n",
       "    <tr>\n",
       "      <th>std</th>\n",
       "      <td>105.368395</td>\n",
       "      <td>0.178082</td>\n",
       "    </tr>\n",
       "    <tr>\n",
       "      <th>min</th>\n",
       "      <td>1.000000</td>\n",
       "      <td>0.000000</td>\n",
       "    </tr>\n",
       "    <tr>\n",
       "      <th>25%</th>\n",
       "      <td>92.000000</td>\n",
       "      <td>0.000000</td>\n",
       "    </tr>\n",
       "    <tr>\n",
       "      <th>50%</th>\n",
       "      <td>183.000000</td>\n",
       "      <td>0.000000</td>\n",
       "    </tr>\n",
       "    <tr>\n",
       "      <th>75%</th>\n",
       "      <td>274.000000</td>\n",
       "      <td>0.000000</td>\n",
       "    </tr>\n",
       "    <tr>\n",
       "      <th>max</th>\n",
       "      <td>365.000000</td>\n",
       "      <td>1.000000</td>\n",
       "    </tr>\n",
       "  </tbody>\n",
       "</table>\n",
       "</div>"
      ],
      "text/plain": [
       "           Store_id       Holiday\n",
       "count  22265.000000  22265.000000\n",
       "mean     183.000000      0.032787\n",
       "std      105.368395      0.178082\n",
       "min        1.000000      0.000000\n",
       "25%       92.000000      0.000000\n",
       "50%      183.000000      0.000000\n",
       "75%      274.000000      0.000000\n",
       "max      365.000000      1.000000"
      ]
     },
     "execution_count": 11,
     "metadata": {},
     "output_type": "execute_result"
    }
   ],
   "source": [
    "Test.describe()"
   ]
  },
  {
   "cell_type": "code",
   "execution_count": 12,
   "id": "b48c320e",
   "metadata": {},
   "outputs": [
    {
     "data": {
      "image/png": "[encoded data removed]",
      "text/plain": [
       "<Figure size 720x720 with 20 Axes>"
      ]
     },
     "metadata": {
      "needs_background": "light"
     },
     "output_type": "display_data"
    }
   ],
   "source": [
    "# Correlation Analysis in Train data\n",
    "sns.pairplot(Train)\n",
    "plt.show()\n"
   ]
  },
  {
   "cell_type": "code",
   "execution_count": 13,
   "id": "4cc50471",
   "metadata": {},
   "outputs": [
    {
     "data": {
      "image/png": "[encoded data removed]",
      "text/plain": [
       "<Figure size 360x360 with 2 Axes>"
      ]
     },
     "metadata": {
      "needs_background": "light"
     },
     "output_type": "display_data"
    }
   ],
   "source": [
    "# Visualizing the same thing as above in different way\n",
    "plt.figure(figsize=(5,5))    \n",
    "ax = sns.heatmap(Train.corr(), cmap = \"coolwarm\", annot=True, linewidth=1)\n",
    "bottom, top = ax.get_ylim()\n"
   ]
  },
  {
   "cell_type": "code",
   "execution_count": 14,
   "id": "46c984ed",
   "metadata": {},
   "outputs": [
    {
     "data": {
      "text/plain": [
       "[]"
      ]
     },
     "execution_count": 14,
     "metadata": {},
     "output_type": "execute_result"
    },
    {
     "data": {
      "image/png": "[encoded data removed]",
      "text/plain": [
       "<Figure size 432x288 with 1 Axes>"
      ]
     },
     "metadata": {
      "needs_background": "light"
     },
     "output_type": "display_data"
    }
   ],
   "source": [
    "# Relation between '#Order' and 'Sales'\n",
    "ax = sns.scatterplot(x=\"#Order\", y=\"Sales\", data=Train,color='r')\n",
    "plt.plot()"
   ]
  },
  {
   "cell_type": "markdown",
   "id": "fe608a31",
   "metadata": {},
   "source": [
    "**There is strong positive correlation between '#orders' and 'sales' (target variable). Thus, '#Order' can be dropped from the Train dataset as also, it is not available in the Test data.**"
   ]
  },
  {
   "cell_type": "code",
   "execution_count": 15,
   "id": "5200b269",
   "metadata": {},
   "outputs": [
    {
     "name": "stdout",
     "output_type": "stream",
     "text": [
      "Unique value of = ID [[188340]]\n",
      "['T1000001' 'T1000002' 'T1000003' ... 'T1188338' 'T1188339' 'T1188340']\n",
      "\n",
      "Unique value of = Store_id [[365]]\n",
      "[  1 253 252 251 250 249 248 247 246 254 245  11 243 242 241 240 239 238\n",
      " 237 244 236 255 256 273 272 271 270 269 268   9 267  10 266 264 263 262\n",
      " 261 260 259 258 257 265 235 234 233 211 210 209 208 207  14 206 205 212\n",
      " 204 202 201 200 199 198 197 196 195 203 213 214 215 232  12 231 230 229\n",
      " 228 227 226 225 224 223 222 221 220 219  13 218 217 216 274  15 275 277\n",
      " 335 334 333 332 331 330   4 329 336 328 326 325 324 323 322 321 320 319\n",
      " 327 318 337 339 355 354   2 353 352 351 350 349 338 348 346 345 344 343\n",
      " 342   3 341 340 347 317   5 316 293   7 292 291 290 289 288 287 294 286\n",
      " 284 283 282 281   8 280 279 278 285 295 296 297 315 314 313 312 311 310\n",
      " 309 308 307 306 305   6 304 303 302 301 300 299 298 276 194 193 192  87\n",
      "  86  85  24  84  83  82  81  88  80  78  77  76  75  74  73  72  25  79\n",
      "  71  89  91 108 107 106 105 104 103 102 101  90 100  98  97  23  96  95\n",
      "  94  93  92  99  70  69  68  46  45  44  43  42  41  40  39  47  38  36\n",
      "  28  35  34  33  32  31  30  37  27  48  49  67  66  65  64  63  62  61\n",
      "  60  26  59  58  57  56  55  54  53  52  51  50  22 109 110 111  17 169\n",
      " 168 167 166 165 164 163 170 162 160 159 158  18 157 156 155 154 161 171\n",
      " 172 173 191 190 189 188 187 186 185 184 183  16 182 181 180 179 178 177\n",
      " 176 175 174 153 356 152 150 128 127 126 125 124 123 122 121 129  21 119\n",
      " 118 117 116 115 114 113 112 120 130 131 132 149 148 147 146  19 145 144\n",
      " 143 142 141 140 139 138 137 136 135 134  20 133 151 357  29 365 361 358\n",
      " 359 362 363 360 364]\n",
      "\n",
      "Unique value of = Store_Type [[4]]\n",
      "['S1' 'S4' 'S3' 'S2']\n",
      "\n",
      "Unique value of = Location_Type [[5]]\n",
      "['L3' 'L2' 'L1' 'L5' 'L4']\n",
      "\n",
      "Unique value of = Region_Code [[4]]\n",
      "['R1' 'R4' 'R2' 'R3']\n",
      "\n",
      "Unique value of = Date [[516]]\n",
      "['2018-01-01' '2018-01-02' '2018-01-03' '2018-01-04' '2018-01-05'\n",
      " '2018-01-06' '2018-01-07' '2018-01-08' '2018-01-09' '2018-01-10'\n",
      " '2018-01-11' '2018-01-12' '2018-01-13' '2018-01-14' '2018-01-15'\n",
      " '2018-01-16' '2018-01-17' '2018-01-18' '2018-01-19' '2018-01-20'\n",
      " '2018-01-21' '2018-01-22' '2018-01-23' '2018-01-24' '2018-01-25'\n",
      " '2018-01-26' '2018-01-27' '2018-01-28' '2018-01-29' '2018-01-30'\n",
      " '2018-01-31' '2018-02-01' '2018-02-02' '2018-02-03' '2018-02-04'\n",
      " '2018-02-05' '2018-02-06' '2018-02-07' '2018-02-08' '2018-02-09'\n",
      " '2018-02-10' '2018-02-11' '2018-02-12' '2018-02-13' '2018-02-14'\n",
      " '2018-02-15' '2018-02-16' '2018-02-17' '2018-02-18' '2018-02-19'\n",
      " '2018-02-20' '2018-02-21' '2018-02-22' '2018-02-23' '2018-02-24'\n",
      " '2018-02-25' '2018-02-26' '2018-02-27' '2018-02-28' '2018-03-01'\n",
      " '2018-03-02' '2018-03-03' '2018-03-04' '2018-03-05' '2018-03-06'\n",
      " '2018-03-07' '2018-03-08' '2018-03-09' '2018-03-10' '2018-03-11'\n",
      " '2018-03-12' '2018-03-13' '2018-03-14' '2018-03-15' '2018-03-16'\n",
      " '2018-03-17' '2018-03-18' '2018-03-19' '2018-03-20' '2018-03-21'\n",
      " '2018-03-22' '2018-03-23' '2018-03-24' '2018-03-25' '2018-03-26'\n",
      " '2018-03-27' '2018-03-28' '2018-03-29' '2018-03-30' '2018-03-31'\n",
      " '2018-04-01' '2018-04-02' '2018-04-03' '2018-04-04' '2018-04-05'\n",
      " '2018-04-06' '2018-04-07' '2018-04-08' '2018-04-09' '2018-04-10'\n",
      " '2018-04-11' '2018-04-12' '2018-04-13' '2018-04-14' '2018-04-15'\n",
      " '2018-04-16' '2018-04-17' '2018-04-18' '2018-04-19' '2018-04-20'\n",
      " '2018-04-21' '2018-04-22' '2018-04-23' '2018-04-24' '2018-04-25'\n",
      " '2018-04-26' '2018-04-27' '2018-04-28' '2018-04-29' '2018-04-30'\n",
      " '2018-05-01' '2018-05-02' '2018-05-03' '2018-05-04' '2018-05-05'\n",
      " '2018-05-06' '2018-05-07' '2018-05-08' '2018-05-09' '2018-05-10'\n",
      " '2018-05-11' '2018-05-12' '2018-05-13' '2018-05-14' '2018-05-15'\n",
      " '2018-05-16' '2018-05-17' '2018-05-18' '2018-05-19' '2018-05-20'\n",
      " '2018-05-21' '2018-05-22' '2018-05-23' '2018-05-24' '2018-05-25'\n",
      " '2018-05-26' '2018-05-27' '2018-05-28' '2018-05-29' '2018-05-30'\n",
      " '2018-05-31' '2018-06-01' '2018-06-02' '2018-06-03' '2018-06-04'\n",
      " '2018-06-05' '2018-06-06' '2018-06-07' '2018-06-08' '2018-06-09'\n",
      " '2018-06-10' '2018-06-11' '2018-06-12' '2018-06-13' '2018-06-14'\n",
      " '2018-06-15' '2018-06-16' '2018-06-17' '2018-06-18' '2018-06-19'\n",
      " '2018-06-20' '2018-06-21' '2018-06-22' '2018-06-23' '2018-06-24'\n",
      " '2018-06-25' '2018-06-26' '2018-06-27' '2018-06-28' '2018-06-29'\n",
      " '2018-06-30' '2018-07-01' '2018-07-02' '2018-07-03' '2018-07-04'\n",
      " '2018-07-05' '2018-07-06' '2018-07-07' '2018-07-08' '2018-07-09'\n",
      " '2018-07-10' '2018-07-11' '2018-07-12' '2018-07-13' '2018-07-14'\n",
      " '2018-07-15' '2018-07-16' '2018-07-17' '2018-07-18' '2018-07-19'\n",
      " '2018-07-20' '2018-07-21' '2018-07-22' '2018-07-23' '2018-07-24'\n",
      " '2018-07-25' '2018-07-26' '2018-07-27' '2018-07-28' '2018-07-29'\n",
      " '2018-07-30' '2018-07-31' '2018-08-01' '2018-08-02' '2018-08-03'\n",
      " '2018-08-04' '2018-08-05' '2018-08-06' '2018-08-07' '2018-08-08'\n",
      " '2018-08-09' '2018-08-10' '2018-08-11' '2018-08-12' '2018-08-13'\n",
      " '2018-08-14' '2018-08-15' '2018-08-16' '2018-08-17' '2018-08-18'\n",
      " '2018-08-19' '2018-08-20' '2018-08-21' '2018-08-22' '2018-08-23'\n",
      " '2018-08-24' '2018-08-25' '2018-08-26' '2018-08-27' '2018-08-28'\n",
      " '2018-08-29' '2018-08-30' '2018-08-31' '2018-09-01' '2018-09-02'\n",
      " '2018-09-03' '2018-09-04' '2018-09-05' '2018-09-06' '2018-09-07'\n",
      " '2018-09-08' '2018-09-09' '2018-09-10' '2018-09-11' '2018-09-12'\n",
      " '2018-09-13' '2018-09-14' '2018-09-15' '2018-09-16' '2018-09-17'\n",
      " '2018-09-18' '2018-09-19' '2018-09-20' '2018-09-21' '2018-09-22'\n",
      " '2018-09-23' '2018-09-24' '2018-09-25' '2018-09-26' '2018-09-27'\n",
      " '2018-09-28' '2018-09-29' '2018-09-30' '2018-10-01' '2018-10-02'\n",
      " '2018-10-03' '2018-10-04' '2018-10-05' '2018-10-06' '2018-10-07'\n",
      " '2018-10-08' '2018-10-09' '2018-10-10' '2018-10-11' '2018-10-12'\n",
      " '2018-10-13' '2018-10-14' '2018-10-15' '2018-10-16' '2018-10-17'\n",
      " '2018-10-18' '2018-10-19' '2018-10-20' '2018-10-21' '2018-10-22'\n",
      " '2018-10-23' '2018-10-24' '2018-10-25' '2018-10-26' '2018-10-27'\n",
      " '2018-10-28' '2018-10-29' '2018-10-30' '2018-10-31' '2018-11-01'\n",
      " '2018-11-02' '2018-11-03' '2018-11-04' '2018-11-05' '2018-11-06'\n",
      " '2018-11-07' '2018-11-08' '2018-11-09' '2018-11-10' '2018-11-11'\n",
      " '2018-11-12' '2018-11-13' '2018-11-14' '2018-11-15' '2018-11-16'\n",
      " '2018-11-17' '2018-11-18' '2018-11-19' '2018-11-20' '2018-11-21'\n",
      " '2018-11-22' '2018-11-23' '2018-11-24' '2018-11-25' '2018-11-26'\n",
      " '2018-11-27' '2018-11-28' '2018-11-29' '2018-11-30' '2018-12-01'\n",
      " '2018-12-02' '2018-12-03' '2018-12-04' '2018-12-05' '2018-12-06'\n",
      " '2018-12-07' '2018-12-08' '2018-12-09' '2018-12-10' '2018-12-11'\n",
      " '2018-12-12' '2018-12-13' '2018-12-14' '2018-12-15' '2018-12-16'\n",
      " '2018-12-17' '2018-12-18' '2018-12-19' '2018-12-20' '2018-12-21'\n",
      " '2018-12-22' '2018-12-23' '2018-12-24' '2018-12-25' '2018-12-26'\n",
      " '2018-12-27' '2018-12-28' '2018-12-29' '2018-12-30' '2018-12-31'\n",
      " '2019-01-01' '2019-01-02' '2019-01-03' '2019-01-04' '2019-01-05'\n",
      " '2019-01-06' '2019-01-07' '2019-01-08' '2019-01-09' '2019-01-10'\n",
      " '2019-01-11' '2019-01-12' '2019-01-13' '2019-01-14' '2019-01-15'\n",
      " '2019-01-16' '2019-01-17' '2019-01-18' '2019-01-19' '2019-01-20'\n",
      " '2019-01-21' '2019-01-22' '2019-01-23' '2019-01-24' '2019-01-25'\n",
      " '2019-01-26' '2019-01-27' '2019-01-28' '2019-01-29' '2019-01-30'\n",
      " '2019-01-31' '2019-02-01' '2019-02-02' '2019-02-03' '2019-02-04'\n",
      " '2019-02-05' '2019-02-06' '2019-02-07' '2019-02-08' '2019-02-09'\n",
      " '2019-02-10' '2019-02-11' '2019-02-12' '2019-02-13' '2019-02-14'\n",
      " '2019-02-15' '2019-02-16' '2019-02-17' '2019-02-18' '2019-02-19'\n",
      " '2019-02-20' '2019-02-21' '2019-02-22' '2019-02-23' '2019-02-24'\n",
      " '2019-02-25' '2019-02-26' '2019-02-27' '2019-02-28' '2019-03-01'\n",
      " '2019-03-02' '2019-03-03' '2019-03-04' '2019-03-05' '2019-03-06'\n",
      " '2019-03-07' '2019-03-08' '2019-03-09' '2019-03-10' '2019-03-11'\n",
      " '2019-03-12' '2019-03-13' '2019-03-14' '2019-03-15' '2019-03-16'\n",
      " '2019-03-17' '2019-03-18' '2019-03-19' '2019-03-20' '2019-03-21'\n",
      " '2019-03-22' '2019-03-23' '2019-03-24' '2019-03-25' '2019-03-26'\n",
      " '2019-03-27' '2019-03-28' '2019-03-29' '2019-03-30' '2019-03-31'\n",
      " '2019-04-01' '2019-04-02' '2019-04-03' '2019-04-04' '2019-04-05'\n",
      " '2019-04-06' '2019-04-07' '2019-04-08' '2019-04-09' '2019-04-10'\n",
      " '2019-04-11' '2019-04-12' '2019-04-13' '2019-04-14' '2019-04-15'\n",
      " '2019-04-16' '2019-04-17' '2019-04-18' '2019-04-19' '2019-04-20'\n",
      " '2019-04-21' '2019-04-22' '2019-04-23' '2019-04-24' '2019-04-25'\n",
      " '2019-04-26' '2019-04-27' '2019-04-28' '2019-04-29' '2019-04-30'\n",
      " '2019-05-01' '2019-05-02' '2019-05-03' '2019-05-04' '2019-05-05'\n",
      " '2019-05-06' '2019-05-07' '2019-05-08' '2019-05-09' '2019-05-10'\n",
      " '2019-05-11' '2019-05-12' '2019-05-13' '2019-05-14' '2019-05-15'\n",
      " '2019-05-16' '2019-05-17' '2019-05-18' '2019-05-19' '2019-05-20'\n",
      " '2019-05-21' '2019-05-22' '2019-05-23' '2019-05-24' '2019-05-25'\n",
      " '2019-05-26' '2019-05-27' '2019-05-28' '2019-05-29' '2019-05-30'\n",
      " '2019-05-31']\n",
      "\n",
      "Unique value of = Holiday [[2]]\n",
      "[1 0]\n",
      "\n",
      "Unique value of = Discount [[2]]\n",
      "['Yes' 'No']\n",
      "\n",
      "Unique value of = #Order [[299]]\n",
      "[  9  60  42  23  62  39  40  64  87  36  69  51  56  59  35  29  55  46\n",
      "  63  78  48  38  75  91  49  26  68  27  25  37  45  94  53  73  31  89\n",
      "  66  74  47  77  81  21  41  61  58 118  44 121  32  83  67  52  34  80\n",
      "  57  54  50  71  92  76 111  90  43  72  70  84 132  24  88  65  97 113\n",
      "  30  33  79 108 154  28  85 102 115 125 180  86  96  98 119 100 142 117\n",
      " 146 145 106 112 124 107 152 103  99 189 123 135 126  93 130 116 167  82\n",
      " 181 122 120 104 109 101 128 105 138 169 150 137 133 110  95 170 157 156\n",
      " 144 196 131 209 143 136 140 158 139 184 129 114 201 134 217 166  15 177\n",
      "  16 147  12  17  22  13 155 127 172 168 160 174 151 159 165 141  20  19\n",
      " 149 164  18 163  11 161 183 178 153 185 176 192 162 202 148 193 199 219\n",
      " 194 186 175 207 280 241 182 187 227 245 210 305 173 238 188 232   8  14\n",
      " 197  10   7 215 254 211 179 190 198 269 195 208 242 171   4   6   5 206\n",
      " 251 216 205 229   0 191 253 235 214 230 223 221 225 213 240 252 200 231\n",
      " 239 281 204 220 228 247 290 224 236 203 218 316 250 233 260 226 282 271\n",
      " 285 255 278 222 212 297 244 333 246 237 259 304 234   3   2 292 261 296\n",
      " 257 275 273 249 264 300 306 277 347 293   1 331 302 272 320 267 284 262\n",
      " 283 348 256 371 248 258 294 309 361 291 266]\n",
      "\n",
      "Unique value of = Sales [[47422]]\n",
      "[ 7011.84 51789.12 36868.2  ... 24105.6  54572.64 31624.56]\n",
      "\n"
     ]
    }
   ],
   "source": [
    "# Number of unique values in each columns and unique values in each columns.\n",
    "\n",
    "for i in Train.columns:\n",
    "    print(\"Unique value of = {} [[{}]]\\n{}\\n\".format(i, len(Train[i].unique()), Train[i].unique()))"
   ]
  },
  {
   "cell_type": "markdown",
   "id": "a944ee9c",
   "metadata": {},
   "source": [
    "### Data Visualization"
   ]
  },
  {
   "cell_type": "code",
   "execution_count": 16,
   "id": "edbbc736",
   "metadata": {},
   "outputs": [
    {
     "name": "stdout",
     "output_type": "stream",
     "text": [
      "S1    88752\n",
      "S4    45924\n",
      "S2    28896\n",
      "S3    24768\n",
      "Name: Store_Type, dtype: int64\n"
     ]
    },
    {
     "data": {
      "image/png": "[encoded data removed]",
      "text/plain": [
       "<Figure size 432x288 with 1 Axes>"
      ]
     },
     "metadata": {},
     "output_type": "display_data"
    },
    {
     "data": {
      "image/png": "[encoded data removed]",
      "text/plain": [
       "<Figure size 432x288 with 1 Axes>"
      ]
     },
     "metadata": {
      "needs_background": "light"
     },
     "output_type": "display_data"
    }
   ],
   "source": [
    "print(Train.Store_Type.value_counts())\n",
    "values=Train['Store_Type'].value_counts().values\n",
    "label=['S1','S2','S3','S4']\n",
    "fig,ax1=plt.subplots()\n",
    "ax1.pie(values,labels=label,shadow=True,startangle=90,autopct='%1.1f%%')\n",
    "plt.show()\n",
    "\n",
    "sns.barplot(x='Store_Type',y='Sales',data=Train)\n",
    "label=['S1','S2','S3','S4']\n",
    "plt.show()"
   ]
  },
  {
   "cell_type": "markdown",
   "id": "81202d0a",
   "metadata": {},
   "source": [
    "* **There are 4 store type {'S1','S2','S3','S4'}.**\n",
    "* **Store type S4 has highest sales around 47.1% out of all the 4 types of stores.**"
   ]
  },
  {
   "cell_type": "code",
   "execution_count": 17,
   "id": "1f17eefe",
   "metadata": {},
   "outputs": [
    {
     "name": "stdout",
     "output_type": "stream",
     "text": [
      "L1    85140\n",
      "L2    48504\n",
      "L3    29928\n",
      "L5    13932\n",
      "L4    10836\n",
      "Name: Location_Type, dtype: int64\n"
     ]
    },
    {
     "data": {
      "image/png": "[encoded data removed]",
      "text/plain": [
       "<Figure size 432x288 with 1 Axes>"
      ]
     },
     "metadata": {},
     "output_type": "display_data"
    },
    {
     "data": {
      "image/png": "[encoded data removed]",
      "text/plain": [
       "<Figure size 432x288 with 1 Axes>"
      ]
     },
     "metadata": {
      "needs_background": "light"
     },
     "output_type": "display_data"
    }
   ],
   "source": [
    "print(Train.Location_Type.value_counts())\n",
    "values=Train['Location_Type'].value_counts().values\n",
    "fig,ax1=plt.subplots()\n",
    "label=['L1','L2','L3','L4','L5']\n",
    "ax1.pie(values,labels=label,shadow=True,startangle=90,autopct='%1.1f%%')\n",
    "plt.show()\n",
    "\n",
    "sns.barplot(x='Location_Type',y='Sales',data=Train)\n",
    "label=['L1','L2','L3','L4','L5']\n",
    "plt.show()"
   ]
  },
  {
   "cell_type": "markdown",
   "id": "2ebfe61a",
   "metadata": {},
   "source": [
    "* **There are 4 Location type {'L1','L2','L3','L4'}.**\n",
    "* **Location type L2 has highest sales around 45.2% out of all the 4 types of Location.**"
   ]
  },
  {
   "cell_type": "code",
   "execution_count": 18,
   "id": "ab8f67bf",
   "metadata": {},
   "outputs": [
    {
     "name": "stdout",
     "output_type": "stream",
     "text": [
      "R1    63984\n",
      "R2    54180\n",
      "R3    44376\n",
      "R4    25800\n",
      "Name: Region_Code, dtype: int64\n"
     ]
    },
    {
     "data": {
      "image/png": "[encoded data removed]",
      "text/plain": [
       "<Figure size 432x288 with 1 Axes>"
      ]
     },
     "metadata": {},
     "output_type": "display_data"
    },
    {
     "data": {
      "image/png": "[encoded data removed]",
      "text/plain": [
       "<Figure size 432x288 with 1 Axes>"
      ]
     },
     "metadata": {
      "needs_background": "light"
     },
     "output_type": "display_data"
    }
   ],
   "source": [
    "print(Train.Region_Code.value_counts())\n",
    "values=Train['Region_Code'].value_counts().values\n",
    "fig,ax1=plt.subplots()\n",
    "label=['R1','R2','R3','R4']\n",
    "ax1.pie(values,labels=label,shadow=True,startangle=90,autopct='%1.1f%%')\n",
    "plt.show()\n",
    "\n",
    "sns.barplot(x='Region_Code',y='Sales',data=Train)\n",
    "label=['R1','R2','R3','R4']\n",
    "plt.show()"
   ]
  },
  {
   "cell_type": "markdown",
   "id": "3b65f7e2",
   "metadata": {},
   "source": [
    "* **There are 4 Region code {'R1','R2','R3','R4'}.**\n",
    "* **All regions almost has equal number of sales.** "
   ]
  },
  {
   "cell_type": "code",
   "execution_count": 19,
   "id": "9ab6cbdf",
   "metadata": {},
   "outputs": [
    {
     "name": "stdout",
     "output_type": "stream",
     "text": [
      "No     104051\n",
      "Yes     84289\n",
      "Name: Discount, dtype: int64\n"
     ]
    },
    {
     "data": {
      "text/plain": [
       "[]"
      ]
     },
     "execution_count": 19,
     "metadata": {},
     "output_type": "execute_result"
    },
    {
     "data": {
      "image/png": "[encoded data removed]",
      "text/plain": [
       "<Figure size 432x288 with 1 Axes>"
      ]
     },
     "metadata": {
      "needs_background": "light"
     },
     "output_type": "display_data"
    }
   ],
   "source": [
    "print(Train.Discount.value_counts())\n",
    "ax = sns.barplot(x=Train.Discount, y=Train.Sales) \n",
    "plt.plot()"
   ]
  },
  {
   "cell_type": "markdown",
   "id": "d3c44bad",
   "metadata": {},
   "source": [
    "**Surely Sales increase when there is a discount.**"
   ]
  },
  {
   "cell_type": "code",
   "execution_count": 20,
   "id": "c2e4afc9",
   "metadata": {},
   "outputs": [
    {
     "data": {
      "text/plain": [
       "[]"
      ]
     },
     "execution_count": 20,
     "metadata": {},
     "output_type": "execute_result"
    },
    {
     "data": {
      "image/png": "[encoded data removed]",
      "text/plain": [
       "<Figure size 432x288 with 1 Axes>"
      ]
     },
     "metadata": {
      "needs_background": "light"
     },
     "output_type": "display_data"
    }
   ],
   "source": [
    "ax = sns.barplot(x=Train.Holiday, y=Train.Sales) \n",
    "plt.plot()"
   ]
  },
  {
   "cell_type": "markdown",
   "id": "8654cf48",
   "metadata": {},
   "source": [
    "**Sales in holidays is lower than in other days.**"
   ]
  },
  {
   "cell_type": "code",
   "execution_count": 21,
   "id": "aca0cdcf",
   "metadata": {},
   "outputs": [
    {
     "data": {
      "text/plain": [
       "<AxesSubplot:xlabel='Store_Type', ylabel='count'>"
      ]
     },
     "execution_count": 21,
     "metadata": {},
     "output_type": "execute_result"
    },
    {
     "data": {
      "image/png": "[encoded data removed]",
      "text/plain": [
       "<Figure size 432x288 with 1 Axes>"
      ]
     },
     "metadata": {
      "needs_background": "light"
     },
     "output_type": "display_data"
    }
   ],
   "source": [
    "# What store type offers discount.\n",
    "\n",
    "sns.countplot('Store_Type', hue='Discount', data=Train)"
   ]
  },
  {
   "cell_type": "code",
   "execution_count": 22,
   "id": "2c45e218",
   "metadata": {},
   "outputs": [
    {
     "data": {
      "text/plain": [
       "<AxesSubplot:xlabel='Sales', ylabel='Density'>"
      ]
     },
     "execution_count": 22,
     "metadata": {},
     "output_type": "execute_result"
    },
    {
     "data": {
      "image/png": "[encoded data removed]",
      "text/plain": [
       "<Figure size 576x432 with 1 Axes>"
      ]
     },
     "metadata": {
      "needs_background": "light"
     },
     "output_type": "display_data"
    }
   ],
   "source": [
    "plt.figure(figsize=(8,6))\n",
    "sns.distplot(Train['Sales'], kde = True)"
   ]
  },
  {
   "cell_type": "markdown",
   "id": "78256d2f",
   "metadata": {},
   "source": [
    "* **Sales data in Train data is Possitive skewed (Right skewed).**\n",
    "* **Mostly number of sales is around 40000.**"
   ]
  },
  {
   "cell_type": "code",
   "execution_count": 23,
   "id": "5ca09c42",
   "metadata": {},
   "outputs": [
    {
     "data": {
      "text/plain": [
       "<AxesSubplot:xlabel='Location_Type', ylabel='Store_Type'>"
      ]
     },
     "execution_count": 23,
     "metadata": {},
     "output_type": "execute_result"
    },
    {
     "data": {
      "image/png": "[encoded data removed]",
      "text/plain": [
       "<Figure size 360x360 with 1 Axes>"
      ]
     },
     "metadata": {
      "needs_background": "light"
     },
     "output_type": "display_data"
    }
   ],
   "source": [
    "# Visualizing the relation of what type of stores are located in what type of locations.\n",
    "\n",
    "plt.figure(figsize=(5,5))\n",
    "sns.histplot(x = Train['Location_Type'], y = Train['Store_Type'], data = Train)"
   ]
  },
  {
   "cell_type": "markdown",
   "id": "067906af",
   "metadata": {},
   "source": [
    "**The above plot clearly shows:**\n",
    "* **The S1 type of stores are located in all the types of location from L1 to L5.**\n",
    "* **The L1 contains all types of stores, from S1 to S4.**"
   ]
  },
  {
   "cell_type": "markdown",
   "id": "954e0d25",
   "metadata": {},
   "source": [
    "### Converting Data type"
   ]
  },
  {
   "cell_type": "markdown",
   "id": "47fcc68b",
   "metadata": {},
   "source": [
    "**Converting the data types of all the 'Categorical variables'  into 'Interger variables'.**"
   ]
  },
  {
   "cell_type": "code",
   "execution_count": 24,
   "id": "411d3c67",
   "metadata": {},
   "outputs": [],
   "source": [
    "#label Encoding on Train and Test \n",
    "from sklearn import preprocessing\n",
    "label_encoder = preprocessing.LabelEncoder()\n",
    "from sklearn.preprocessing import LabelEncoder"
   ]
  },
  {
   "cell_type": "code",
   "execution_count": 25,
   "id": "714866e5",
   "metadata": {},
   "outputs": [],
   "source": [
    "#Train data\n",
    "Train['Store_Type']=label_encoder.fit_transform(Train['Store_Type'])\n",
    "Train['Location_Type']=label_encoder.fit_transform(Train['Location_Type'])\n",
    "Train['Region_Code']=label_encoder.fit_transform(Train['Region_Code'])\n",
    "Train['Discount']=label_encoder.fit_transform(Train['Discount'])"
   ]
  },
  {
   "cell_type": "code",
   "execution_count": 26,
   "id": "4d6e23ac",
   "metadata": {},
   "outputs": [
    {
     "data": {
      "text/html": [
       "<div>\n",
       "<style scoped>\n",
       "    .dataframe tbody tr th:only-of-type {\n",
       "        vertical-align: middle;\n",
       "    }\n",
       "\n",
       "    .dataframe tbody tr th {\n",
       "        vertical-align: top;\n",
       "    }\n",
       "\n",
       "    .dataframe thead th {\n",
       "        text-align: right;\n",
       "    }\n",
       "</style>\n",
       "<table border=\"1\" class=\"dataframe\">\n",
       "  <thead>\n",
       "    <tr style=\"text-align: right;\">\n",
       "      <th></th>\n",
       "      <th>ID</th>\n",
       "      <th>Store_id</th>\n",
       "      <th>Store_Type</th>\n",
       "      <th>Location_Type</th>\n",
       "      <th>Region_Code</th>\n",
       "      <th>Date</th>\n",
       "      <th>Holiday</th>\n",
       "      <th>Discount</th>\n",
       "      <th>#Order</th>\n",
       "      <th>Sales</th>\n",
       "    </tr>\n",
       "  </thead>\n",
       "  <tbody>\n",
       "    <tr>\n",
       "      <th>0</th>\n",
       "      <td>T1000001</td>\n",
       "      <td>1</td>\n",
       "      <td>0</td>\n",
       "      <td>2</td>\n",
       "      <td>0</td>\n",
       "      <td>2018-01-01</td>\n",
       "      <td>1</td>\n",
       "      <td>1</td>\n",
       "      <td>9</td>\n",
       "      <td>7011.84</td>\n",
       "    </tr>\n",
       "    <tr>\n",
       "      <th>1</th>\n",
       "      <td>T1000002</td>\n",
       "      <td>253</td>\n",
       "      <td>3</td>\n",
       "      <td>1</td>\n",
       "      <td>0</td>\n",
       "      <td>2018-01-01</td>\n",
       "      <td>1</td>\n",
       "      <td>1</td>\n",
       "      <td>60</td>\n",
       "      <td>51789.12</td>\n",
       "    </tr>\n",
       "    <tr>\n",
       "      <th>2</th>\n",
       "      <td>T1000003</td>\n",
       "      <td>252</td>\n",
       "      <td>2</td>\n",
       "      <td>1</td>\n",
       "      <td>0</td>\n",
       "      <td>2018-01-01</td>\n",
       "      <td>1</td>\n",
       "      <td>1</td>\n",
       "      <td>42</td>\n",
       "      <td>36868.20</td>\n",
       "    </tr>\n",
       "    <tr>\n",
       "      <th>3</th>\n",
       "      <td>T1000004</td>\n",
       "      <td>251</td>\n",
       "      <td>1</td>\n",
       "      <td>2</td>\n",
       "      <td>0</td>\n",
       "      <td>2018-01-01</td>\n",
       "      <td>1</td>\n",
       "      <td>1</td>\n",
       "      <td>23</td>\n",
       "      <td>19715.16</td>\n",
       "    </tr>\n",
       "    <tr>\n",
       "      <th>4</th>\n",
       "      <td>T1000005</td>\n",
       "      <td>250</td>\n",
       "      <td>1</td>\n",
       "      <td>2</td>\n",
       "      <td>3</td>\n",
       "      <td>2018-01-01</td>\n",
       "      <td>1</td>\n",
       "      <td>1</td>\n",
       "      <td>62</td>\n",
       "      <td>45614.52</td>\n",
       "    </tr>\n",
       "  </tbody>\n",
       "</table>\n",
       "</div>"
      ],
      "text/plain": [
       "         ID  Store_id  Store_Type  Location_Type  Region_Code        Date  \\\n",
       "0  T1000001         1           0              2            0  2018-01-01   \n",
       "1  T1000002       253           3              1            0  2018-01-01   \n",
       "2  T1000003       252           2              1            0  2018-01-01   \n",
       "3  T1000004       251           1              2            0  2018-01-01   \n",
       "4  T1000005       250           1              2            3  2018-01-01   \n",
       "\n",
       "   Holiday  Discount  #Order     Sales  \n",
       "0        1         1       9   7011.84  \n",
       "1        1         1      60  51789.12  \n",
       "2        1         1      42  36868.20  \n",
       "3        1         1      23  19715.16  \n",
       "4        1         1      62  45614.52  "
      ]
     },
     "execution_count": 26,
     "metadata": {},
     "output_type": "execute_result"
    }
   ],
   "source": [
    "# Checking the Train data again after converting the Categorical variables into Numrical variables.\n",
    "Train.head() "
   ]
  },
  {
   "cell_type": "code",
   "execution_count": 27,
   "id": "e0cb2384",
   "metadata": {},
   "outputs": [
    {
     "data": {
      "text/plain": [
       "ID                object\n",
       "Store_id           int64\n",
       "Store_Type         int32\n",
       "Location_Type      int32\n",
       "Region_Code        int32\n",
       "Date              object\n",
       "Holiday            int64\n",
       "Discount           int32\n",
       "#Order             int64\n",
       "Sales            float64\n",
       "dtype: object"
      ]
     },
     "execution_count": 27,
     "metadata": {},
     "output_type": "execute_result"
    }
   ],
   "source": [
    "# Checking the data type again after converting the Categorical variables into Numrical variables.\n",
    "Train.dtypes"
   ]
  },
  {
   "cell_type": "code",
   "execution_count": 28,
   "id": "a63f14ee",
   "metadata": {},
   "outputs": [],
   "source": [
    "#Test data\n",
    "Test['Store_Type']=label_encoder.fit_transform(Test['Store_Type'])\n",
    "Test['Location_Type']=label_encoder.fit_transform(Test['Location_Type'])\n",
    "Test['Region_Code']=label_encoder.fit_transform(Test['Region_Code'])\n",
    "Test['Discount']=label_encoder.fit_transform(Test['Discount'])"
   ]
  },
  {
   "cell_type": "code",
   "execution_count": 29,
   "id": "d29f96a9",
   "metadata": {},
   "outputs": [
    {
     "data": {
      "text/html": [
       "<div>\n",
       "<style scoped>\n",
       "    .dataframe tbody tr th:only-of-type {\n",
       "        vertical-align: middle;\n",
       "    }\n",
       "\n",
       "    .dataframe tbody tr th {\n",
       "        vertical-align: top;\n",
       "    }\n",
       "\n",
       "    .dataframe thead th {\n",
       "        text-align: right;\n",
       "    }\n",
       "</style>\n",
       "<table border=\"1\" class=\"dataframe\">\n",
       "  <thead>\n",
       "    <tr style=\"text-align: right;\">\n",
       "      <th></th>\n",
       "      <th>ID</th>\n",
       "      <th>Store_id</th>\n",
       "      <th>Store_Type</th>\n",
       "      <th>Location_Type</th>\n",
       "      <th>Region_Code</th>\n",
       "      <th>Date</th>\n",
       "      <th>Holiday</th>\n",
       "      <th>Discount</th>\n",
       "    </tr>\n",
       "  </thead>\n",
       "  <tbody>\n",
       "    <tr>\n",
       "      <th>0</th>\n",
       "      <td>T1188341</td>\n",
       "      <td>171</td>\n",
       "      <td>3</td>\n",
       "      <td>1</td>\n",
       "      <td>2</td>\n",
       "      <td>2019-06-01</td>\n",
       "      <td>0</td>\n",
       "      <td>0</td>\n",
       "    </tr>\n",
       "    <tr>\n",
       "      <th>1</th>\n",
       "      <td>T1188342</td>\n",
       "      <td>172</td>\n",
       "      <td>0</td>\n",
       "      <td>0</td>\n",
       "      <td>0</td>\n",
       "      <td>2019-06-01</td>\n",
       "      <td>0</td>\n",
       "      <td>0</td>\n",
       "    </tr>\n",
       "    <tr>\n",
       "      <th>2</th>\n",
       "      <td>T1188343</td>\n",
       "      <td>173</td>\n",
       "      <td>3</td>\n",
       "      <td>1</td>\n",
       "      <td>0</td>\n",
       "      <td>2019-06-01</td>\n",
       "      <td>0</td>\n",
       "      <td>0</td>\n",
       "    </tr>\n",
       "    <tr>\n",
       "      <th>3</th>\n",
       "      <td>T1188344</td>\n",
       "      <td>174</td>\n",
       "      <td>0</td>\n",
       "      <td>0</td>\n",
       "      <td>3</td>\n",
       "      <td>2019-06-01</td>\n",
       "      <td>0</td>\n",
       "      <td>0</td>\n",
       "    </tr>\n",
       "    <tr>\n",
       "      <th>4</th>\n",
       "      <td>T1188345</td>\n",
       "      <td>170</td>\n",
       "      <td>0</td>\n",
       "      <td>0</td>\n",
       "      <td>1</td>\n",
       "      <td>2019-06-01</td>\n",
       "      <td>0</td>\n",
       "      <td>0</td>\n",
       "    </tr>\n",
       "  </tbody>\n",
       "</table>\n",
       "</div>"
      ],
      "text/plain": [
       "         ID  Store_id  Store_Type  Location_Type  Region_Code        Date  \\\n",
       "0  T1188341       171           3              1            2  2019-06-01   \n",
       "1  T1188342       172           0              0            0  2019-06-01   \n",
       "2  T1188343       173           3              1            0  2019-06-01   \n",
       "3  T1188344       174           0              0            3  2019-06-01   \n",
       "4  T1188345       170           0              0            1  2019-06-01   \n",
       "\n",
       "   Holiday  Discount  \n",
       "0        0         0  \n",
       "1        0         0  \n",
       "2        0         0  \n",
       "3        0         0  \n",
       "4        0         0  "
      ]
     },
     "execution_count": 29,
     "metadata": {},
     "output_type": "execute_result"
    }
   ],
   "source": [
    "# Checking the Test data again after converting the Categorical variables into Numrical variables.\n",
    "Test.head()"
   ]
  },
  {
   "cell_type": "code",
   "execution_count": 30,
   "id": "a60bc292",
   "metadata": {},
   "outputs": [
    {
     "data": {
      "text/plain": [
       "ID               object\n",
       "Store_id          int64\n",
       "Store_Type        int32\n",
       "Location_Type     int32\n",
       "Region_Code       int32\n",
       "Date             object\n",
       "Holiday           int64\n",
       "Discount          int32\n",
       "dtype: object"
      ]
     },
     "execution_count": 30,
     "metadata": {},
     "output_type": "execute_result"
    }
   ],
   "source": [
    "# Checking the data type again after converting the Categorical variables into Numrical variables. \n",
    "Test.dtypes"
   ]
  },
  {
   "cell_type": "markdown",
   "id": "6515ee63",
   "metadata": {},
   "source": [
    "### Feature Selection & Extraction"
   ]
  },
  {
   "cell_type": "markdown",
   "id": "42eca0e1",
   "metadata": {},
   "source": [
    "**Date column is in string data type. Thus, converting the data type into datatime and extracting day, month and year in both Train and Test data.**"
   ]
  },
  {
   "cell_type": "code",
   "execution_count": 31,
   "id": "1e102243",
   "metadata": {},
   "outputs": [],
   "source": [
    "Train[['Year', 'Month', 'Day']] = Train['Date'].str.split('-', expand=True).astype('float64') \n",
    "Test[['Year', 'Month', 'Day']] = Test['Date'].str.split('-', expand=True).astype('float64')"
   ]
  },
  {
   "cell_type": "code",
   "execution_count": 32,
   "id": "e4fb593d",
   "metadata": {},
   "outputs": [
    {
     "data": {
      "text/html": [
       "<div>\n",
       "<style scoped>\n",
       "    .dataframe tbody tr th:only-of-type {\n",
       "        vertical-align: middle;\n",
       "    }\n",
       "\n",
       "    .dataframe tbody tr th {\n",
       "        vertical-align: top;\n",
       "    }\n",
       "\n",
       "    .dataframe thead th {\n",
       "        text-align: right;\n",
       "    }\n",
       "</style>\n",
       "<table border=\"1\" class=\"dataframe\">\n",
       "  <thead>\n",
       "    <tr style=\"text-align: right;\">\n",
       "      <th></th>\n",
       "      <th>ID</th>\n",
       "      <th>Store_id</th>\n",
       "      <th>Store_Type</th>\n",
       "      <th>Location_Type</th>\n",
       "      <th>Region_Code</th>\n",
       "      <th>Date</th>\n",
       "      <th>Holiday</th>\n",
       "      <th>Discount</th>\n",
       "      <th>#Order</th>\n",
       "      <th>Sales</th>\n",
       "      <th>Year</th>\n",
       "      <th>Month</th>\n",
       "      <th>Day</th>\n",
       "    </tr>\n",
       "  </thead>\n",
       "  <tbody>\n",
       "    <tr>\n",
       "      <th>0</th>\n",
       "      <td>T1000001</td>\n",
       "      <td>1</td>\n",
       "      <td>0</td>\n",
       "      <td>2</td>\n",
       "      <td>0</td>\n",
       "      <td>2018-01-01</td>\n",
       "      <td>1</td>\n",
       "      <td>1</td>\n",
       "      <td>9</td>\n",
       "      <td>7011.84</td>\n",
       "      <td>2018.0</td>\n",
       "      <td>1.0</td>\n",
       "      <td>1.0</td>\n",
       "    </tr>\n",
       "    <tr>\n",
       "      <th>1</th>\n",
       "      <td>T1000002</td>\n",
       "      <td>253</td>\n",
       "      <td>3</td>\n",
       "      <td>1</td>\n",
       "      <td>0</td>\n",
       "      <td>2018-01-01</td>\n",
       "      <td>1</td>\n",
       "      <td>1</td>\n",
       "      <td>60</td>\n",
       "      <td>51789.12</td>\n",
       "      <td>2018.0</td>\n",
       "      <td>1.0</td>\n",
       "      <td>1.0</td>\n",
       "    </tr>\n",
       "    <tr>\n",
       "      <th>2</th>\n",
       "      <td>T1000003</td>\n",
       "      <td>252</td>\n",
       "      <td>2</td>\n",
       "      <td>1</td>\n",
       "      <td>0</td>\n",
       "      <td>2018-01-01</td>\n",
       "      <td>1</td>\n",
       "      <td>1</td>\n",
       "      <td>42</td>\n",
       "      <td>36868.20</td>\n",
       "      <td>2018.0</td>\n",
       "      <td>1.0</td>\n",
       "      <td>1.0</td>\n",
       "    </tr>\n",
       "  </tbody>\n",
       "</table>\n",
       "</div>"
      ],
      "text/plain": [
       "         ID  Store_id  Store_Type  Location_Type  Region_Code        Date  \\\n",
       "0  T1000001         1           0              2            0  2018-01-01   \n",
       "1  T1000002       253           3              1            0  2018-01-01   \n",
       "2  T1000003       252           2              1            0  2018-01-01   \n",
       "\n",
       "   Holiday  Discount  #Order     Sales    Year  Month  Day  \n",
       "0        1         1       9   7011.84  2018.0    1.0  1.0  \n",
       "1        1         1      60  51789.12  2018.0    1.0  1.0  \n",
       "2        1         1      42  36868.20  2018.0    1.0  1.0  "
      ]
     },
     "execution_count": 32,
     "metadata": {},
     "output_type": "execute_result"
    }
   ],
   "source": [
    "# Checking the Train data set after the exraction of date into day, month and year.\n",
    "Train.head(3)"
   ]
  },
  {
   "cell_type": "code",
   "execution_count": 33,
   "id": "66b69897",
   "metadata": {},
   "outputs": [
    {
     "data": {
      "text/html": [
       "<div>\n",
       "<style scoped>\n",
       "    .dataframe tbody tr th:only-of-type {\n",
       "        vertical-align: middle;\n",
       "    }\n",
       "\n",
       "    .dataframe tbody tr th {\n",
       "        vertical-align: top;\n",
       "    }\n",
       "\n",
       "    .dataframe thead th {\n",
       "        text-align: right;\n",
       "    }\n",
       "</style>\n",
       "<table border=\"1\" class=\"dataframe\">\n",
       "  <thead>\n",
       "    <tr style=\"text-align: right;\">\n",
       "      <th></th>\n",
       "      <th>ID</th>\n",
       "      <th>Store_id</th>\n",
       "      <th>Store_Type</th>\n",
       "      <th>Location_Type</th>\n",
       "      <th>Region_Code</th>\n",
       "      <th>Date</th>\n",
       "      <th>Holiday</th>\n",
       "      <th>Discount</th>\n",
       "      <th>Year</th>\n",
       "      <th>Month</th>\n",
       "      <th>Day</th>\n",
       "    </tr>\n",
       "  </thead>\n",
       "  <tbody>\n",
       "    <tr>\n",
       "      <th>0</th>\n",
       "      <td>T1188341</td>\n",
       "      <td>171</td>\n",
       "      <td>3</td>\n",
       "      <td>1</td>\n",
       "      <td>2</td>\n",
       "      <td>2019-06-01</td>\n",
       "      <td>0</td>\n",
       "      <td>0</td>\n",
       "      <td>2019.0</td>\n",
       "      <td>6.0</td>\n",
       "      <td>1.0</td>\n",
       "    </tr>\n",
       "    <tr>\n",
       "      <th>1</th>\n",
       "      <td>T1188342</td>\n",
       "      <td>172</td>\n",
       "      <td>0</td>\n",
       "      <td>0</td>\n",
       "      <td>0</td>\n",
       "      <td>2019-06-01</td>\n",
       "      <td>0</td>\n",
       "      <td>0</td>\n",
       "      <td>2019.0</td>\n",
       "      <td>6.0</td>\n",
       "      <td>1.0</td>\n",
       "    </tr>\n",
       "    <tr>\n",
       "      <th>2</th>\n",
       "      <td>T1188343</td>\n",
       "      <td>173</td>\n",
       "      <td>3</td>\n",
       "      <td>1</td>\n",
       "      <td>0</td>\n",
       "      <td>2019-06-01</td>\n",
       "      <td>0</td>\n",
       "      <td>0</td>\n",
       "      <td>2019.0</td>\n",
       "      <td>6.0</td>\n",
       "      <td>1.0</td>\n",
       "    </tr>\n",
       "  </tbody>\n",
       "</table>\n",
       "</div>"
      ],
      "text/plain": [
       "         ID  Store_id  Store_Type  Location_Type  Region_Code        Date  \\\n",
       "0  T1188341       171           3              1            2  2019-06-01   \n",
       "1  T1188342       172           0              0            0  2019-06-01   \n",
       "2  T1188343       173           3              1            0  2019-06-01   \n",
       "\n",
       "   Holiday  Discount    Year  Month  Day  \n",
       "0        0         0  2019.0    6.0  1.0  \n",
       "1        0         0  2019.0    6.0  1.0  \n",
       "2        0         0  2019.0    6.0  1.0  "
      ]
     },
     "execution_count": 33,
     "metadata": {},
     "output_type": "execute_result"
    }
   ],
   "source": [
    "# Checking the Test data set after the exraction of date into day, month and year.\n",
    "Test.head(3)"
   ]
  },
  {
   "cell_type": "markdown",
   "id": "24b6ffce",
   "metadata": {},
   "source": [
    "### Reduction of Dimension"
   ]
  },
  {
   "cell_type": "markdown",
   "id": "d7710c13",
   "metadata": {},
   "source": [
    "- **'ID' : Drop 'ID' column from both the data because it is the unique identifier.**\n",
    "- **'Date' : Drop 'Date' column from both the data because the date is exracted in three different columns as in day, month and year.**\n",
    "- **'#Order' : Drop '#Order' column from the Train data because it is not available in Test data and also it is strongly positively correlated with the target variable in Train data.**"
   ]
  },
  {
   "cell_type": "code",
   "execution_count": 34,
   "id": "5cf8df1b",
   "metadata": {},
   "outputs": [],
   "source": [
    "# Train data\n",
    "Train.drop(['ID', 'Date', '#Order'], axis = 1, inplace=True)\n",
    "\n",
    "# Test Data\n",
    "Test.drop(['ID', 'Date'], axis = 1, inplace=True)"
   ]
  },
  {
   "cell_type": "code",
   "execution_count": 35,
   "id": "4e03ef6d",
   "metadata": {},
   "outputs": [
    {
     "name": "stdout",
     "output_type": "stream",
     "text": [
      "Train data Columns :\n",
      " Index(['Store_id', 'Store_Type', 'Location_Type', 'Region_Code', 'Holiday',\n",
      "       'Discount', 'Sales', 'Year', 'Month', 'Day'],\n",
      "      dtype='object') \n",
      "\n",
      "Total count of columns : 10 \n",
      "\n",
      "\n",
      "Test data Columns :\n",
      " Index(['Store_id', 'Store_Type', 'Location_Type', 'Region_Code', 'Holiday',\n",
      "       'Discount', 'Year', 'Month', 'Day'],\n",
      "      dtype='object') \n",
      "\n",
      "Total count of columns : 9\n"
     ]
    }
   ],
   "source": [
    "# Checking the Total count of columns and columns in both the data.\n",
    "\n",
    "print(\"Train data Columns :\\n\", Train.columns, '\\n\\nTotal count of columns :', Train.shape[1], '\\n\\n')\n",
    "print(\"Test data Columns :\\n\", Test.columns, '\\n\\nTotal count of columns :', Test.shape[1])"
   ]
  },
  {
   "cell_type": "markdown",
   "id": "e878d806",
   "metadata": {},
   "source": [
    "* **Train data have total 10 columns including target column (Sales)**.\n",
    "* **Test data have total 9 columns**."
   ]
  },
  {
   "cell_type": "markdown",
   "id": "8b008659",
   "metadata": {},
   "source": [
    "### Missing Value Analysis"
   ]
  },
  {
   "cell_type": "markdown",
   "id": "c1409431",
   "metadata": {},
   "source": [
    "**Checking Missing values in Train and Test data set.**"
   ]
  },
  {
   "cell_type": "code",
   "execution_count": 36,
   "id": "c1be48c8",
   "metadata": {},
   "outputs": [
    {
     "name": "stdout",
     "output_type": "stream",
     "text": [
      "Store_id         0\n",
      "Store_Type       0\n",
      "Location_Type    0\n",
      "Region_Code      0\n",
      "Holiday          0\n",
      "Discount         0\n",
      "Sales            0\n",
      "Year             0\n",
      "Month            0\n",
      "Day              0\n",
      "dtype: int64\n"
     ]
    },
    {
     "data": {
      "text/plain": [
       "<AxesSubplot:>"
      ]
     },
     "execution_count": 36,
     "metadata": {},
     "output_type": "execute_result"
    },
    {
     "data": {
      "image/png": "[encoded data removed]",
      "text/plain": [
       "<Figure size 432x288 with 2 Axes>"
      ]
     },
     "metadata": {
      "needs_background": "light"
     },
     "output_type": "display_data"
    }
   ],
   "source": [
    "# Train data set\n",
    "print(Train.isnull().sum())\n",
    "\n",
    "# Visualizing the same using heatmap.\n",
    "sns.heatmap(Train.isnull(), cmap = 'YlGnBu')"
   ]
  },
  {
   "cell_type": "code",
   "execution_count": 37,
   "id": "3d483817",
   "metadata": {},
   "outputs": [
    {
     "name": "stdout",
     "output_type": "stream",
     "text": [
      "Store_id         0\n",
      "Store_Type       0\n",
      "Location_Type    0\n",
      "Region_Code      0\n",
      "Holiday          0\n",
      "Discount         0\n",
      "Year             0\n",
      "Month            0\n",
      "Day              0\n",
      "dtype: int64\n"
     ]
    },
    {
     "data": {
      "text/plain": [
       "<AxesSubplot:>"
      ]
     },
     "execution_count": 37,
     "metadata": {},
     "output_type": "execute_result"
    },
    {
     "data": {
      "image/png": "[encoded data removed]",
      "text/plain": [
       "<Figure size 432x288 with 2 Axes>"
      ]
     },
     "metadata": {
      "needs_background": "light"
     },
     "output_type": "display_data"
    }
   ],
   "source": [
    "# Test data set\n",
    "print(Test.isnull().sum())\n",
    "\n",
    "# Visualizing the same using heatmap.\n",
    "sns.heatmap(Test.isnull(), cmap = 'YlGnBu')"
   ]
  },
  {
   "cell_type": "markdown",
   "id": "f2896d32",
   "metadata": {},
   "source": [
    "* **There are no null values present in both the dataset i.e. Train and Test data.**"
   ]
  },
  {
   "cell_type": "markdown",
   "id": "26369789",
   "metadata": {},
   "source": [
    "### Saperating The Input and Output Variables"
   ]
  },
  {
   "cell_type": "code",
   "execution_count": 38,
   "id": "9293cf3c",
   "metadata": {},
   "outputs": [],
   "source": [
    "# Splitting the data into Independent and Dependent variables.\n",
    "\n",
    "X = Train.drop('Sales', axis=1)\n",
    "Y = Train['Sales']"
   ]
  },
  {
   "cell_type": "code",
   "execution_count": 39,
   "id": "738366aa",
   "metadata": {},
   "outputs": [
    {
     "name": "stdout",
     "output_type": "stream",
     "text": [
      "(188340, 9)\n",
      "(188340,)\n"
     ]
    }
   ],
   "source": [
    "# Let's check the Shape of Input and Output variables.\n",
    "\n",
    "print(X.shape)\n",
    "print(Y.shape)"
   ]
  },
  {
   "cell_type": "code",
   "execution_count": 40,
   "id": "4a092107",
   "metadata": {},
   "outputs": [
    {
     "data": {
      "text/html": [
       "<div>\n",
       "<style scoped>\n",
       "    .dataframe tbody tr th:only-of-type {\n",
       "        vertical-align: middle;\n",
       "    }\n",
       "\n",
       "    .dataframe tbody tr th {\n",
       "        vertical-align: top;\n",
       "    }\n",
       "\n",
       "    .dataframe thead th {\n",
       "        text-align: right;\n",
       "    }\n",
       "</style>\n",
       "<table border=\"1\" class=\"dataframe\">\n",
       "  <thead>\n",
       "    <tr style=\"text-align: right;\">\n",
       "      <th></th>\n",
       "      <th>Store_id</th>\n",
       "      <th>Store_Type</th>\n",
       "      <th>Location_Type</th>\n",
       "      <th>Region_Code</th>\n",
       "      <th>Holiday</th>\n",
       "      <th>Discount</th>\n",
       "      <th>Year</th>\n",
       "      <th>Month</th>\n",
       "      <th>Day</th>\n",
       "    </tr>\n",
       "  </thead>\n",
       "  <tbody>\n",
       "    <tr>\n",
       "      <th>0</th>\n",
       "      <td>1</td>\n",
       "      <td>0</td>\n",
       "      <td>2</td>\n",
       "      <td>0</td>\n",
       "      <td>1</td>\n",
       "      <td>1</td>\n",
       "      <td>2018.0</td>\n",
       "      <td>1.0</td>\n",
       "      <td>1.0</td>\n",
       "    </tr>\n",
       "    <tr>\n",
       "      <th>1</th>\n",
       "      <td>253</td>\n",
       "      <td>3</td>\n",
       "      <td>1</td>\n",
       "      <td>0</td>\n",
       "      <td>1</td>\n",
       "      <td>1</td>\n",
       "      <td>2018.0</td>\n",
       "      <td>1.0</td>\n",
       "      <td>1.0</td>\n",
       "    </tr>\n",
       "    <tr>\n",
       "      <th>2</th>\n",
       "      <td>252</td>\n",
       "      <td>2</td>\n",
       "      <td>1</td>\n",
       "      <td>0</td>\n",
       "      <td>1</td>\n",
       "      <td>1</td>\n",
       "      <td>2018.0</td>\n",
       "      <td>1.0</td>\n",
       "      <td>1.0</td>\n",
       "    </tr>\n",
       "  </tbody>\n",
       "</table>\n",
       "</div>"
      ],
      "text/plain": [
       "   Store_id  Store_Type  Location_Type  Region_Code  Holiday  Discount  \\\n",
       "0         1           0              2            0        1         1   \n",
       "1       253           3              1            0        1         1   \n",
       "2       252           2              1            0        1         1   \n",
       "\n",
       "     Year  Month  Day  \n",
       "0  2018.0    1.0  1.0  \n",
       "1  2018.0    1.0  1.0  \n",
       "2  2018.0    1.0  1.0  "
      ]
     },
     "execution_count": 40,
     "metadata": {},
     "output_type": "execute_result"
    }
   ],
   "source": [
    "# Checking the Independent variables.\n",
    "\n",
    "X.head(3)"
   ]
  },
  {
   "cell_type": "code",
   "execution_count": 41,
   "id": "7a3dc272",
   "metadata": {},
   "outputs": [
    {
     "data": {
      "text/plain": [
       "0     7011.84\n",
       "1    51789.12\n",
       "2    36868.20\n",
       "3    19715.16\n",
       "4    45614.52\n",
       "Name: Sales, dtype: float64"
      ]
     },
     "execution_count": 41,
     "metadata": {},
     "output_type": "execute_result"
    }
   ],
   "source": [
    "# Checking the Dependent variable.\n",
    "\n",
    "Y.head()"
   ]
  },
  {
   "cell_type": "markdown",
   "id": "8704b129",
   "metadata": {},
   "source": [
    "### Splitting the Train data"
   ]
  },
  {
   "cell_type": "markdown",
   "id": "3df09fb4",
   "metadata": {},
   "source": [
    "**Splitting the Train data into train and test set, ratio being 75% and 25% respectively.**"
   ]
  },
  {
   "cell_type": "code",
   "execution_count": 42,
   "id": "05a4b147",
   "metadata": {},
   "outputs": [],
   "source": [
    "# Importing library for split Train data\n",
    "from sklearn.model_selection import train_test_split\n",
    "X_train,X_test,Y_train,Y_test=train_test_split(X,Y,random_state=42,test_size=0.25)\n"
   ]
  },
  {
   "cell_type": "markdown",
   "id": "9308aff3",
   "metadata": {},
   "source": [
    "### Model Building"
   ]
  },
  {
   "cell_type": "markdown",
   "id": "94dac863",
   "metadata": {},
   "source": [
    " **1)    Linear Regression** "
   ]
  },
  {
   "cell_type": "code",
   "execution_count": 43,
   "id": "b62924e0",
   "metadata": {},
   "outputs": [],
   "source": [
    "# Importing the algorithm to be used to build a Linear Regression model.\n",
    "from sklearn.linear_model import LinearRegression\n",
    "\n",
    "# Giving an instance to the Linear regression\n",
    "lR = LinearRegression()\n",
    "\n",
    "# Training the model\n",
    "lR.fit(X_train, Y_train)\n",
    "\n",
    "# Predicting the output\n",
    "Y_pred = lR.predict(X_test)"
   ]
  },
  {
   "cell_type": "code",
   "execution_count": 44,
   "id": "6ec6e492",
   "metadata": {},
   "outputs": [
    {
     "name": "stdout",
     "output_type": "stream",
     "text": [
      "RMSE: 13892.112747354537\n",
      "MAE: 10049.956457154038\n",
      "r2: 0.4285411922014011\n"
     ]
    }
   ],
   "source": [
    "from math import sqrt\n",
    "from sklearn import metrics\n",
    "\n",
    "#print('MSE:',metrics.mean_squared_error(Y_test,Y_pred))\n",
    "print('RMSE:',sqrt(metrics.mean_squared_error(Y_test,Y_pred)))\n",
    "print('MAE:',metrics.mean_absolute_error(Y_test,Y_pred))\n",
    "print('r2:',metrics.r2_score(Y_test,Y_pred))"
   ]
  },
  {
   "cell_type": "markdown",
   "id": "dfd605cf",
   "metadata": {},
   "source": [
    " **2)    Decision Tree Regressor** "
   ]
  },
  {
   "cell_type": "code",
   "execution_count": 45,
   "id": "2397d19e",
   "metadata": {},
   "outputs": [],
   "source": [
    "# Importing the algorithm to be used to build a  Decision Tree Regressor model.\n",
    "from sklearn.tree import DecisionTreeRegressor   \n",
    "\n",
    "# Giving an instance to the  Decision Tree Regressor\n",
    "DTR = DecisionTreeRegressor()\n",
    "\n",
    "# Training the model\n",
    "DTR.fit(X_train, Y_train)\n",
    "\n",
    "# Predicting the output\n",
    "Y1_pred = DTR.predict(X_test)"
   ]
  },
  {
   "cell_type": "code",
   "execution_count": 46,
   "id": "e1cdedca",
   "metadata": {},
   "outputs": [
    {
     "name": "stdout",
     "output_type": "stream",
     "text": [
      "RMSE: 11502.959057632082\n",
      "MAE: 7778.038714240204\n",
      "r2: 0.6081972498037873\n"
     ]
    }
   ],
   "source": [
    "from math import sqrt\n",
    "from sklearn import metrics\n",
    "\n",
    "#print('MSE:',metrics.mean_squared_error(Y_test,Y1_pred))\n",
    "print('RMSE:',sqrt(metrics.mean_squared_error(Y_test,Y1_pred)))\n",
    "print('MAE:',metrics.mean_absolute_error(Y_test,Y1_pred))\n",
    "print('r2:',metrics.r2_score(Y_test,Y1_pred))"
   ]
  },
  {
   "cell_type": "markdown",
   "id": "30346d85",
   "metadata": {},
   "source": [
    " **3)    Random Forest Regressor** "
   ]
  },
  {
   "cell_type": "code",
   "execution_count": 47,
   "id": "822ab366",
   "metadata": {},
   "outputs": [],
   "source": [
    "# Importing the algorithm to be used to build a  Random Forest Regressor model.\n",
    "from sklearn.ensemble import RandomForestRegressor \n",
    "\n",
    "# Giving an instance to the  Random Forest Regressor\n",
    "RFR = RandomForestRegressor()\n",
    "\n",
    "# Training the model\n",
    "RFR.fit(X_train, Y_train)\n",
    "\n",
    "# Predicting the output\n",
    "Y2_pred = RFR.predict(X_test)"
   ]
  },
  {
   "cell_type": "code",
   "execution_count": 48,
   "id": "3bbd43a2",
   "metadata": {},
   "outputs": [
    {
     "name": "stdout",
     "output_type": "stream",
     "text": [
      "RMSE: 8827.024298142038\n",
      "MAE: 6032.060748129978\n",
      "r2: 0.7692843917136465\n"
     ]
    }
   ],
   "source": [
    "from math import sqrt\n",
    "from sklearn import metrics\n",
    "\n",
    "#print('MSE:',metrics.mean_squared_error(Y_test,Y2_pred))\n",
    "print('RMSE:',sqrt(metrics.mean_squared_error(Y_test,Y2_pred)))\n",
    "print('MAE:',metrics.mean_absolute_error(Y_test,Y2_pred))\n",
    "print('r2:',metrics.r2_score(Y_test,Y2_pred))"
   ]
  },
  {
   "cell_type": "markdown",
   "id": "6b5014e0",
   "metadata": {},
   "source": [
    "**4) XGBoost Regression Model**"
   ]
  },
  {
   "cell_type": "code",
   "execution_count": 49,
   "id": "47aacb8b",
   "metadata": {},
   "outputs": [],
   "source": [
    "# Importing the algorithm to be used to build a  XGBoost Regression Model.\n",
    "import xgboost as xgb\n",
    "from xgboost import XGBClassifier\n",
    "from xgboost import XGBRegressor\n",
    "\n",
    "# Giving an instance to the  XGBR Regressor\n",
    "XGBR = XGBRegressor()\n",
    "\n",
    "# Training the model\n",
    "XGBR.fit(X_train, Y_train)\n",
    "\n",
    "# Predicting the output\n",
    "Y3_pred = XGBR.predict(X_test)"
   ]
  },
  {
   "cell_type": "code",
   "execution_count": 61,
   "id": "91b28655",
   "metadata": {},
   "outputs": [
    {
     "name": "stdout",
     "output_type": "stream",
     "text": [
      "RMSE: 7883.251053679681\n",
      "MAE: 5525.506371896838\n",
      "r2: 0.8159825335038038\n"
     ]
    }
   ],
   "source": [
    "from math import sqrt\n",
    "from sklearn import metrics\n",
    "\n",
    "#print('MSE:',metrics.mean_squared_error(Y_test,Y3_pred))\n",
    "print('RMSE:',sqrt(metrics.mean_squared_error(Y_test,Y3_pred)))\n",
    "print('MAE:',metrics.mean_absolute_error(Y_test,Y3_pred))\n",
    "print('r2:',metrics.r2_score(Y_test,Y3_pred))"
   ]
  },
  {
   "cell_type": "markdown",
   "id": "83c0073d",
   "metadata": {},
   "source": [
    "- **We have build four models (Linear Regression, Decision Tree Regressor,  Random Forest Regressor, XGBoost Regression Model).**\n",
    "- **We have checked the error in each of this model.**\n",
    "- **We have notice that XGBoost Regression Model has less error compare to the other model.**\n",
    "- **We have fixed XGBoost Regression Model (XGBR).** "
   ]
  },
  {
   "cell_type": "markdown",
   "id": "21a904f6",
   "metadata": {},
   "source": [
    "### Making the Final predictions"
   ]
  },
  {
   "cell_type": "markdown",
   "id": "93a63909",
   "metadata": {},
   "source": [
    "**Now we will predict 'Sales' for Test data using XGBoost Regression Model (XGBR).**"
   ]
  },
  {
   "cell_type": "code",
   "execution_count": 51,
   "id": "22254908",
   "metadata": {},
   "outputs": [],
   "source": [
    "Final_predictions = XGBR.predict(Test)"
   ]
  },
  {
   "cell_type": "code",
   "execution_count": 52,
   "id": "9f7f42fc",
   "metadata": {},
   "outputs": [
    {
     "data": {
      "text/plain": [
       "array([ 95519.914,  51695.82 , 108060.44 , ...,  44347.125,  28792.668,\n",
       "        24859.871], dtype=float32)"
      ]
     },
     "execution_count": 52,
     "metadata": {},
     "output_type": "execute_result"
    }
   ],
   "source": [
    "Final_predictions "
   ]
  },
  {
   "cell_type": "markdown",
   "id": "13f3c7a0",
   "metadata": {},
   "source": [
    "### Load SAMPLE Data"
   ]
  },
  {
   "cell_type": "code",
   "execution_count": 53,
   "id": "369c83ab",
   "metadata": {},
   "outputs": [],
   "source": [
    "data = pd.read_csv(r'C:\\Users\\Bharti Lenday\\Downloads\\SAMPLE.csv')"
   ]
  },
  {
   "cell_type": "code",
   "execution_count": 54,
   "id": "05cc4e71",
   "metadata": {},
   "outputs": [
    {
     "data": {
      "text/html": [
       "<div>\n",
       "<style scoped>\n",
       "    .dataframe tbody tr th:only-of-type {\n",
       "        vertical-align: middle;\n",
       "    }\n",
       "\n",
       "    .dataframe tbody tr th {\n",
       "        vertical-align: top;\n",
       "    }\n",
       "\n",
       "    .dataframe thead th {\n",
       "        text-align: right;\n",
       "    }\n",
       "</style>\n",
       "<table border=\"1\" class=\"dataframe\">\n",
       "  <thead>\n",
       "    <tr style=\"text-align: right;\">\n",
       "      <th></th>\n",
       "      <th>ID</th>\n",
       "      <th>Sales</th>\n",
       "    </tr>\n",
       "  </thead>\n",
       "  <tbody>\n",
       "    <tr>\n",
       "      <th>0</th>\n",
       "      <td>T1188341</td>\n",
       "      <td>42275</td>\n",
       "    </tr>\n",
       "    <tr>\n",
       "      <th>1</th>\n",
       "      <td>T1188342</td>\n",
       "      <td>42275</td>\n",
       "    </tr>\n",
       "    <tr>\n",
       "      <th>2</th>\n",
       "      <td>T1188343</td>\n",
       "      <td>42275</td>\n",
       "    </tr>\n",
       "    <tr>\n",
       "      <th>3</th>\n",
       "      <td>T1188344</td>\n",
       "      <td>42275</td>\n",
       "    </tr>\n",
       "    <tr>\n",
       "      <th>4</th>\n",
       "      <td>T1188345</td>\n",
       "      <td>42275</td>\n",
       "    </tr>\n",
       "  </tbody>\n",
       "</table>\n",
       "</div>"
      ],
      "text/plain": [
       "         ID  Sales\n",
       "0  T1188341  42275\n",
       "1  T1188342  42275\n",
       "2  T1188343  42275\n",
       "3  T1188344  42275\n",
       "4  T1188345  42275"
      ]
     },
     "execution_count": 54,
     "metadata": {},
     "output_type": "execute_result"
    }
   ],
   "source": [
    "data.head()"
   ]
  },
  {
   "cell_type": "code",
   "execution_count": 55,
   "id": "973963da",
   "metadata": {},
   "outputs": [],
   "source": [
    "#drop 'Sales' column\n",
    "data.drop(columns =['Sales'],inplace =True)"
   ]
  },
  {
   "cell_type": "code",
   "execution_count": 56,
   "id": "7a6e1ee0",
   "metadata": {},
   "outputs": [],
   "source": [
    "# Add new column 'Sales' equal to Final_predictions \n",
    "data['Sales'] = Final_predictions "
   ]
  },
  {
   "cell_type": "code",
   "execution_count": 57,
   "id": "5c6ae1ed",
   "metadata": {},
   "outputs": [
    {
     "data": {
      "text/html": [
       "<div>\n",
       "<style scoped>\n",
       "    .dataframe tbody tr th:only-of-type {\n",
       "        vertical-align: middle;\n",
       "    }\n",
       "\n",
       "    .dataframe tbody tr th {\n",
       "        vertical-align: top;\n",
       "    }\n",
       "\n",
       "    .dataframe thead th {\n",
       "        text-align: right;\n",
       "    }\n",
       "</style>\n",
       "<table border=\"1\" class=\"dataframe\">\n",
       "  <thead>\n",
       "    <tr style=\"text-align: right;\">\n",
       "      <th></th>\n",
       "      <th>ID</th>\n",
       "      <th>Sales</th>\n",
       "    </tr>\n",
       "  </thead>\n",
       "  <tbody>\n",
       "    <tr>\n",
       "      <th>0</th>\n",
       "      <td>T1188341</td>\n",
       "      <td>95519.914062</td>\n",
       "    </tr>\n",
       "    <tr>\n",
       "      <th>1</th>\n",
       "      <td>T1188342</td>\n",
       "      <td>51695.820312</td>\n",
       "    </tr>\n",
       "    <tr>\n",
       "      <th>2</th>\n",
       "      <td>T1188343</td>\n",
       "      <td>108060.437500</td>\n",
       "    </tr>\n",
       "    <tr>\n",
       "      <th>3</th>\n",
       "      <td>T1188344</td>\n",
       "      <td>57479.257812</td>\n",
       "    </tr>\n",
       "    <tr>\n",
       "      <th>4</th>\n",
       "      <td>T1188345</td>\n",
       "      <td>54386.652344</td>\n",
       "    </tr>\n",
       "  </tbody>\n",
       "</table>\n",
       "</div>"
      ],
      "text/plain": [
       "         ID          Sales\n",
       "0  T1188341   95519.914062\n",
       "1  T1188342   51695.820312\n",
       "2  T1188343  108060.437500\n",
       "3  T1188344   57479.257812\n",
       "4  T1188345   54386.652344"
      ]
     },
     "execution_count": 57,
     "metadata": {},
     "output_type": "execute_result"
    }
   ],
   "source": [
    "# Check data\n",
    "data.head()"
   ]
  },
  {
   "cell_type": "markdown",
   "id": "5fcb1571",
   "metadata": {},
   "source": [
    "**Saving the Final predictions in a csv.**"
   ]
  },
  {
   "cell_type": "code",
   "execution_count": 58,
   "id": "420d8ae8",
   "metadata": {},
   "outputs": [],
   "source": [
    "data.to_csv('my_submission.csv', index=False)"
   ]
  },
  {
   "cell_type": "code",
   "execution_count": null,
   "id": "d07f20e4",
   "metadata": {},
   "outputs": [],
   "source": []
  }
 ],
 "metadata": {
  "kernelspec": {
   "display_name": "Python 3 (ipykernel)",
   "language": "python",
   "name": "python3"
  },
  "language_info": {
   "codemirror_mode": {
    "name": "ipython",
    "version": 3
   },
   "file_extension": ".py",
   "mimetype": "text/x-python",
   "name": "python",
   "nbconvert_exporter": "python",
   "pygments_lexer": "ipython3",
   "version": "3.8.5"
  }
 },
 "nbformat": 4,
 "nbformat_minor": 5
}
